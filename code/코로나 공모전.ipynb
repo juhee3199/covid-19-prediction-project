{
 "cells": [
  {
   "cell_type": "code",
   "execution_count": 2,
   "metadata": {},
   "outputs": [],
   "source": [
    "import pandas as pd\n",
    "import numpy as np"
   ]
  },
  {
   "cell_type": "code",
   "execution_count": 62,
   "metadata": {},
   "outputs": [
    {
     "data": {
      "text/html": [
       "<div>\n",
       "<style scoped>\n",
       "    .dataframe tbody tr th:only-of-type {\n",
       "        vertical-align: middle;\n",
       "    }\n",
       "\n",
       "    .dataframe tbody tr th {\n",
       "        vertical-align: top;\n",
       "    }\n",
       "\n",
       "    .dataframe thead th {\n",
       "        text-align: right;\n",
       "    }\n",
       "</style>\n",
       "<table border=\"1\" class=\"dataframe\">\n",
       "  <thead>\n",
       "    <tr style=\"text-align: right;\">\n",
       "      <th></th>\n",
       "      <th>기준일(발병일, 확진일 선택)</th>\n",
       "      <th>지역 + 시</th>\n",
       "      <th>필터(무증상,조사중 제외)</th>\n",
       "      <th>무증상/조사중</th>\n",
       "      <th>무증상/조사중 기준일</th>\n",
       "      <th>지역</th>\n",
       "      <th>지역 (group)</th>\n",
       "      <th>확진일자</th>\n",
       "      <th>레코드 수</th>\n",
       "    </tr>\n",
       "  </thead>\n",
       "  <tbody>\n",
       "    <tr>\n",
       "      <th>0</th>\n",
       "      <td>2020. 1. 26.</td>\n",
       "      <td>고양시</td>\n",
       "      <td>참</td>\n",
       "      <td></td>\n",
       "      <td>2020. 1. 26.</td>\n",
       "      <td>고양일산서</td>\n",
       "      <td>고양</td>\n",
       "      <td>2020. 1. 26.</td>\n",
       "      <td>1</td>\n",
       "    </tr>\n",
       "    <tr>\n",
       "      <th>1</th>\n",
       "      <td>2020. 1. 27.</td>\n",
       "      <td>평택시</td>\n",
       "      <td>참</td>\n",
       "      <td></td>\n",
       "      <td>2020. 1. 27.</td>\n",
       "      <td>평택</td>\n",
       "      <td>평택</td>\n",
       "      <td>2020. 1. 27.</td>\n",
       "      <td>1</td>\n",
       "    </tr>\n",
       "    <tr>\n",
       "      <th>2</th>\n",
       "      <td>2020. 2. 1.</td>\n",
       "      <td>부천시</td>\n",
       "      <td>참</td>\n",
       "      <td></td>\n",
       "      <td>2020. 2. 1.</td>\n",
       "      <td>부천</td>\n",
       "      <td>부천</td>\n",
       "      <td>2020. 2. 1.</td>\n",
       "      <td>1</td>\n",
       "    </tr>\n",
       "    <tr>\n",
       "      <th>3</th>\n",
       "      <td>2020. 2. 2.</td>\n",
       "      <td>부천시</td>\n",
       "      <td>참</td>\n",
       "      <td></td>\n",
       "      <td>2020. 2. 2.</td>\n",
       "      <td>부천</td>\n",
       "      <td>부천</td>\n",
       "      <td>2020. 2. 2.</td>\n",
       "      <td>1</td>\n",
       "    </tr>\n",
       "    <tr>\n",
       "      <th>4</th>\n",
       "      <td>2020. 2. 2.</td>\n",
       "      <td>수원시</td>\n",
       "      <td>참</td>\n",
       "      <td></td>\n",
       "      <td>2020. 2. 2.</td>\n",
       "      <td>수원장안</td>\n",
       "      <td>수원</td>\n",
       "      <td>2020. 2. 2.</td>\n",
       "      <td>1</td>\n",
       "    </tr>\n",
       "  </tbody>\n",
       "</table>\n",
       "</div>"
      ],
      "text/plain": [
       "  기준일(발병일, 확진일 선택) 지역 + 시  필터(무증상,조사중 제외) 무증상/조사중   무증상/조사중 기준일     지역  \\\n",
       "0     2020. 1. 26.     고양시              참          2020. 1. 26.  고양일산서   \n",
       "1     2020. 1. 27.     평택시              참          2020. 1. 27.     평택   \n",
       "2      2020. 2. 1.     부천시              참           2020. 2. 1.     부천   \n",
       "3      2020. 2. 2.     부천시              참           2020. 2. 2.     부천   \n",
       "4      2020. 2. 2.     수원시              참           2020. 2. 2.   수원장안   \n",
       "\n",
       "  지역 (group)          확진일자  레코드 수  \n",
       "0         고양  2020. 1. 26.      1  \n",
       "1         평택  2020. 1. 27.      1  \n",
       "2         부천   2020. 2. 1.      1  \n",
       "3         부천   2020. 2. 2.      1  \n",
       "4         수원   2020. 2. 2.      1  "
      ]
     },
     "execution_count": 62,
     "metadata": {},
     "output_type": "execute_result"
    }
   ],
   "source": [
    "data2=pd.read_csv(\"코로나19 경기도현황1.csv\")\n",
    "data2.head()"
   ]
  },
  {
   "cell_type": "code",
   "execution_count": null,
   "metadata": {},
   "outputs": [],
   "source": []
  },
  {
   "cell_type": "markdown",
   "metadata": {},
   "source": [
    "# 큰 사건을 제외했을 때, 전체적인 확산 추이보기\n",
    "- 감염경로를 기준으로 큰 사건을 분류하고,\n",
    "- 날짜별 전체 확진자에서 큰 사건에 의해 발생한 확진자수를 빼기"
   ]
  },
  {
   "cell_type": "code",
   "execution_count": 475,
   "metadata": {},
   "outputs": [
    {
     "data": {
      "text/html": [
       "<div>\n",
       "<style scoped>\n",
       "    .dataframe tbody tr th:only-of-type {\n",
       "        vertical-align: middle;\n",
       "    }\n",
       "\n",
       "    .dataframe tbody tr th {\n",
       "        vertical-align: top;\n",
       "    }\n",
       "\n",
       "    .dataframe thead th {\n",
       "        text-align: right;\n",
       "    }\n",
       "</style>\n",
       "<table border=\"1\" class=\"dataframe\">\n",
       "  <thead>\n",
       "    <tr style=\"text-align: right;\">\n",
       "      <th></th>\n",
       "      <th>날짜</th>\n",
       "      <th>확진자수</th>\n",
       "    </tr>\n",
       "  </thead>\n",
       "  <tbody>\n",
       "    <tr>\n",
       "      <th>0</th>\n",
       "      <td>2020-08-28</td>\n",
       "      <td>371</td>\n",
       "    </tr>\n",
       "    <tr>\n",
       "      <th>1</th>\n",
       "      <td>2020-08-27</td>\n",
       "      <td>441</td>\n",
       "    </tr>\n",
       "    <tr>\n",
       "      <th>2</th>\n",
       "      <td>2020-08-26</td>\n",
       "      <td>320</td>\n",
       "    </tr>\n",
       "    <tr>\n",
       "      <th>3</th>\n",
       "      <td>2020-08-25</td>\n",
       "      <td>280</td>\n",
       "    </tr>\n",
       "    <tr>\n",
       "      <th>4</th>\n",
       "      <td>2020-08-24</td>\n",
       "      <td>266</td>\n",
       "    </tr>\n",
       "  </tbody>\n",
       "</table>\n",
       "</div>"
      ],
      "text/plain": [
       "           날짜  확진자수\n",
       "0  2020-08-28   371\n",
       "1  2020-08-27   441\n",
       "2  2020-08-26   320\n",
       "3  2020-08-25   280\n",
       "4  2020-08-24   266"
      ]
     },
     "execution_count": 475,
     "metadata": {},
     "output_type": "execute_result"
    }
   ],
   "source": [
    "total_cnt=pd.read_csv(\"일별확진자수.csv\",  index_col=0)\n",
    "total_cnt.head()"
   ]
  },
  {
   "cell_type": "code",
   "execution_count": 476,
   "metadata": {},
   "outputs": [
    {
     "data": {
      "text/html": [
       "<div>\n",
       "<style scoped>\n",
       "    .dataframe tbody tr th:only-of-type {\n",
       "        vertical-align: middle;\n",
       "    }\n",
       "\n",
       "    .dataframe tbody tr th {\n",
       "        vertical-align: top;\n",
       "    }\n",
       "\n",
       "    .dataframe thead th {\n",
       "        text-align: right;\n",
       "    }\n",
       "</style>\n",
       "<table border=\"1\" class=\"dataframe\">\n",
       "  <thead>\n",
       "    <tr style=\"text-align: right;\">\n",
       "      <th></th>\n",
       "      <th>확진자수</th>\n",
       "    </tr>\n",
       "    <tr>\n",
       "      <th>날짜</th>\n",
       "      <th></th>\n",
       "    </tr>\n",
       "  </thead>\n",
       "  <tbody>\n",
       "    <tr>\n",
       "      <th>2020-01-23</th>\n",
       "      <td>1</td>\n",
       "    </tr>\n",
       "    <tr>\n",
       "      <th>2020-01-24</th>\n",
       "      <td>1</td>\n",
       "    </tr>\n",
       "    <tr>\n",
       "      <th>2020-01-26</th>\n",
       "      <td>1</td>\n",
       "    </tr>\n",
       "    <tr>\n",
       "      <th>2020-01-27</th>\n",
       "      <td>1</td>\n",
       "    </tr>\n",
       "    <tr>\n",
       "      <th>2020-01-28</th>\n",
       "      <td>0</td>\n",
       "    </tr>\n",
       "  </tbody>\n",
       "</table>\n",
       "</div>"
      ],
      "text/plain": [
       "            확진자수\n",
       "날짜              \n",
       "2020-01-23     1\n",
       "2020-01-24     1\n",
       "2020-01-26     1\n",
       "2020-01-27     1\n",
       "2020-01-28     0"
      ]
     },
     "execution_count": 476,
     "metadata": {},
     "output_type": "execute_result"
    }
   ],
   "source": [
    "total_cnt=total_cnt.sort_values(by=[\"날짜\"], ascending=True)\n",
    "total_cnt=total_cnt.set_index('날짜')\n",
    "total_cnt.head()"
   ]
  },
  {
   "cell_type": "code",
   "execution_count": 477,
   "metadata": {},
   "outputs": [
    {
     "data": {
      "text/plain": [
       "<matplotlib.axes._subplots.AxesSubplot at 0x1deea0b5e80>"
      ]
     },
     "execution_count": 477,
     "metadata": {},
     "output_type": "execute_result"
    },
    {
     "data": {
      "image/png": "[encoded data removed]",
      "text/plain": [
       "<Figure size 864x288 with 1 Axes>"
      ]
     },
     "metadata": {
      "needs_background": "light"
     },
     "output_type": "display_data"
    }
   ],
   "source": [
    "total_cnt.plot(figsize=(12,4))"
   ]
  },
  {
   "cell_type": "code",
   "execution_count": null,
   "metadata": {},
   "outputs": [],
   "source": []
  },
  {
   "cell_type": "code",
   "execution_count": null,
   "metadata": {},
   "outputs": [],
   "source": []
  },
  {
   "cell_type": "code",
   "execution_count": 227,
   "metadata": {},
   "outputs": [
    {
     "data": {
      "text/html": [
       "<div>\n",
       "<style scoped>\n",
       "    .dataframe tbody tr th:only-of-type {\n",
       "        vertical-align: middle;\n",
       "    }\n",
       "\n",
       "    .dataframe tbody tr th {\n",
       "        vertical-align: top;\n",
       "    }\n",
       "\n",
       "    .dataframe thead th {\n",
       "        text-align: right;\n",
       "    }\n",
       "</style>\n",
       "<table border=\"1\" class=\"dataframe\">\n",
       "  <thead>\n",
       "    <tr style=\"text-align: right;\">\n",
       "      <th></th>\n",
       "      <th>확진자</th>\n",
       "      <th>성별</th>\n",
       "      <th>나이(만)</th>\n",
       "      <th>연령대</th>\n",
       "      <th>확진일자</th>\n",
       "      <th>증상발현일</th>\n",
       "      <th>무증상/조사중</th>\n",
       "      <th>경기번호</th>\n",
       "      <th>지역</th>\n",
       "      <th>재검출</th>\n",
       "      <th>감염경로</th>\n",
       "      <th>GRP</th>\n",
       "      <th>구분2</th>\n",
       "      <th>구분</th>\n",
       "    </tr>\n",
       "    <tr>\n",
       "      <th>연번</th>\n",
       "      <th></th>\n",
       "      <th></th>\n",
       "      <th></th>\n",
       "      <th></th>\n",
       "      <th></th>\n",
       "      <th></th>\n",
       "      <th></th>\n",
       "      <th></th>\n",
       "      <th></th>\n",
       "      <th></th>\n",
       "      <th></th>\n",
       "      <th></th>\n",
       "      <th></th>\n",
       "      <th></th>\n",
       "    </tr>\n",
       "  </thead>\n",
       "  <tbody>\n",
       "    <tr>\n",
       "      <th>1.0</th>\n",
       "      <td>3</td>\n",
       "      <td>M</td>\n",
       "      <td>54</td>\n",
       "      <td>50</td>\n",
       "      <td>2020. 1. 26.</td>\n",
       "      <td>2020. 1. 22.</td>\n",
       "      <td></td>\n",
       "      <td>고양-1</td>\n",
       "      <td>고양일산서</td>\n",
       "      <td></td>\n",
       "      <td>해외유입</td>\n",
       "      <td>grp01</td>\n",
       "      <td></td>\n",
       "      <td>Primary</td>\n",
       "    </tr>\n",
       "    <tr>\n",
       "      <th>2.0</th>\n",
       "      <td>4</td>\n",
       "      <td>M</td>\n",
       "      <td>55</td>\n",
       "      <td>50</td>\n",
       "      <td>2020. 1. 27.</td>\n",
       "      <td>2020. 1. 25.</td>\n",
       "      <td></td>\n",
       "      <td>평택-1</td>\n",
       "      <td>평택</td>\n",
       "      <td></td>\n",
       "      <td>해외유입</td>\n",
       "      <td>grp02</td>\n",
       "      <td></td>\n",
       "      <td>Primary</td>\n",
       "    </tr>\n",
       "    <tr>\n",
       "      <th>3.0</th>\n",
       "      <td>12</td>\n",
       "      <td>M</td>\n",
       "      <td>48</td>\n",
       "      <td>40</td>\n",
       "      <td>2020. 2. 1.</td>\n",
       "      <td>2020. 1. 20.</td>\n",
       "      <td></td>\n",
       "      <td>부천-1</td>\n",
       "      <td>부천</td>\n",
       "      <td></td>\n",
       "      <td>해외유입</td>\n",
       "      <td>grp03</td>\n",
       "      <td></td>\n",
       "      <td>Primary</td>\n",
       "    </tr>\n",
       "    <tr>\n",
       "      <th>4.0</th>\n",
       "      <td>14</td>\n",
       "      <td>F</td>\n",
       "      <td>40</td>\n",
       "      <td>40</td>\n",
       "      <td>2020. 2. 2.</td>\n",
       "      <td>2020. 1. 29.</td>\n",
       "      <td></td>\n",
       "      <td>부천-2</td>\n",
       "      <td>부천</td>\n",
       "      <td></td>\n",
       "      <td>해외유입</td>\n",
       "      <td>grp03</td>\n",
       "      <td></td>\n",
       "      <td>접촉자</td>\n",
       "    </tr>\n",
       "    <tr>\n",
       "      <th>5.0</th>\n",
       "      <td>15</td>\n",
       "      <td>M</td>\n",
       "      <td>42</td>\n",
       "      <td>40</td>\n",
       "      <td>2020. 2. 2.</td>\n",
       "      <td>2020. 2. 1.</td>\n",
       "      <td></td>\n",
       "      <td>수원-1</td>\n",
       "      <td>수원장안</td>\n",
       "      <td></td>\n",
       "      <td>해외유입</td>\n",
       "      <td>grp04</td>\n",
       "      <td></td>\n",
       "      <td>Primary</td>\n",
       "    </tr>\n",
       "  </tbody>\n",
       "</table>\n",
       "</div>"
      ],
      "text/plain": [
       "    확진자 성별  나이(만) 연령대          확진일자         증상발현일 무증상/조사중  경기번호     지역 재검출  \\\n",
       "연번                                                                           \n",
       "1.0   3  M     54  50  2020. 1. 26.  2020. 1. 22.          고양-1  고양일산서       \n",
       "2.0   4  M     55  50  2020. 1. 27.  2020. 1. 25.          평택-1     평택       \n",
       "3.0  12  M     48  40   2020. 2. 1.  2020. 1. 20.          부천-1     부천       \n",
       "4.0  14  F     40  40   2020. 2. 2.  2020. 1. 29.          부천-2     부천       \n",
       "5.0  15  M     42  40   2020. 2. 2.   2020. 2. 1.          수원-1   수원장안       \n",
       "\n",
       "     감염경로    GRP 구분2       구분  \n",
       "연번                             \n",
       "1.0  해외유입  grp01      Primary  \n",
       "2.0  해외유입  grp02      Primary  \n",
       "3.0  해외유입  grp03      Primary  \n",
       "4.0  해외유입  grp03          접촉자  \n",
       "5.0  해외유입  grp04      Primary  "
      ]
     },
     "execution_count": 227,
     "metadata": {},
     "output_type": "execute_result"
    }
   ],
   "source": [
    "full_data = pd.read_excel('코로나19 경기도 확진환자.xlsx', index_col=0)\n",
    "full_data.head()"
   ]
  },
  {
   "cell_type": "code",
   "execution_count": 228,
   "metadata": {},
   "outputs": [
    {
     "name": "stdout",
     "output_type": "stream",
     "text": [
      "<class 'pandas.core.frame.DataFrame'>\n",
      "Float64Index: 3414 entries, 1.0 to 3414.0\n",
      "Data columns (total 14 columns):\n",
      "확진자        3414 non-null object\n",
      "성별         3414 non-null object\n",
      "나이(만)      3414 non-null int64\n",
      "연령대        3414 non-null object\n",
      "확진일자       3414 non-null object\n",
      "증상발현일      2210 non-null object\n",
      "무증상/조사중    3414 non-null object\n",
      "경기번호       3414 non-null object\n",
      "지역         3414 non-null object\n",
      "재검출        3414 non-null object\n",
      "감염경로       3414 non-null object\n",
      "GRP        3414 non-null object\n",
      "구분2        3414 non-null object\n",
      "구분         2803 non-null object\n",
      "dtypes: int64(1), object(13)\n",
      "memory usage: 400.1+ KB\n"
     ]
    }
   ],
   "source": [
    "full_data.info()"
   ]
  },
  {
   "cell_type": "code",
   "execution_count": 383,
   "metadata": {},
   "outputs": [
    {
     "data": {
      "text/html": [
       "<div>\n",
       "<style scoped>\n",
       "    .dataframe tbody tr th:only-of-type {\n",
       "        vertical-align: middle;\n",
       "    }\n",
       "\n",
       "    .dataframe tbody tr th {\n",
       "        vertical-align: top;\n",
       "    }\n",
       "\n",
       "    .dataframe thead th {\n",
       "        text-align: right;\n",
       "    }\n",
       "</style>\n",
       "<table border=\"1\" class=\"dataframe\">\n",
       "  <thead>\n",
       "    <tr style=\"text-align: right;\">\n",
       "      <th></th>\n",
       "      <th>확진자</th>\n",
       "      <th>성별</th>\n",
       "      <th>나이(만)</th>\n",
       "      <th>연령대</th>\n",
       "      <th>확진일자</th>\n",
       "      <th>증상발현일</th>\n",
       "      <th>무증상/조사중</th>\n",
       "      <th>경기번호</th>\n",
       "      <th>지역</th>\n",
       "      <th>재검출</th>\n",
       "      <th>감염경로</th>\n",
       "      <th>GRP</th>\n",
       "      <th>구분2</th>\n",
       "      <th>구분</th>\n",
       "    </tr>\n",
       "    <tr>\n",
       "      <th>연번</th>\n",
       "      <th></th>\n",
       "      <th></th>\n",
       "      <th></th>\n",
       "      <th></th>\n",
       "      <th></th>\n",
       "      <th></th>\n",
       "      <th></th>\n",
       "      <th></th>\n",
       "      <th></th>\n",
       "      <th></th>\n",
       "      <th></th>\n",
       "      <th></th>\n",
       "      <th></th>\n",
       "      <th></th>\n",
       "    </tr>\n",
       "  </thead>\n",
       "  <tbody>\n",
       "    <tr>\n",
       "      <th>1.0</th>\n",
       "      <td>3</td>\n",
       "      <td>M</td>\n",
       "      <td>54</td>\n",
       "      <td>50</td>\n",
       "      <td>2020-01-26</td>\n",
       "      <td>2020. 1. 22.</td>\n",
       "      <td></td>\n",
       "      <td>고양-1</td>\n",
       "      <td>고양일산서</td>\n",
       "      <td></td>\n",
       "      <td>해외유입</td>\n",
       "      <td>grp01</td>\n",
       "      <td></td>\n",
       "      <td>Primary</td>\n",
       "    </tr>\n",
       "    <tr>\n",
       "      <th>2.0</th>\n",
       "      <td>4</td>\n",
       "      <td>M</td>\n",
       "      <td>55</td>\n",
       "      <td>50</td>\n",
       "      <td>2020-01-27</td>\n",
       "      <td>2020. 1. 25.</td>\n",
       "      <td></td>\n",
       "      <td>평택-1</td>\n",
       "      <td>평택</td>\n",
       "      <td></td>\n",
       "      <td>해외유입</td>\n",
       "      <td>grp02</td>\n",
       "      <td></td>\n",
       "      <td>Primary</td>\n",
       "    </tr>\n",
       "    <tr>\n",
       "      <th>3.0</th>\n",
       "      <td>12</td>\n",
       "      <td>M</td>\n",
       "      <td>48</td>\n",
       "      <td>40</td>\n",
       "      <td>2020-02-01</td>\n",
       "      <td>2020. 1. 20.</td>\n",
       "      <td></td>\n",
       "      <td>부천-1</td>\n",
       "      <td>부천</td>\n",
       "      <td></td>\n",
       "      <td>해외유입</td>\n",
       "      <td>grp03</td>\n",
       "      <td></td>\n",
       "      <td>Primary</td>\n",
       "    </tr>\n",
       "    <tr>\n",
       "      <th>4.0</th>\n",
       "      <td>14</td>\n",
       "      <td>F</td>\n",
       "      <td>40</td>\n",
       "      <td>40</td>\n",
       "      <td>2020-02-02</td>\n",
       "      <td>2020. 1. 29.</td>\n",
       "      <td></td>\n",
       "      <td>부천-2</td>\n",
       "      <td>부천</td>\n",
       "      <td></td>\n",
       "      <td>해외유입</td>\n",
       "      <td>grp03</td>\n",
       "      <td></td>\n",
       "      <td>접촉자</td>\n",
       "    </tr>\n",
       "    <tr>\n",
       "      <th>5.0</th>\n",
       "      <td>15</td>\n",
       "      <td>M</td>\n",
       "      <td>42</td>\n",
       "      <td>40</td>\n",
       "      <td>2020-02-02</td>\n",
       "      <td>2020. 2. 1.</td>\n",
       "      <td></td>\n",
       "      <td>수원-1</td>\n",
       "      <td>수원장안</td>\n",
       "      <td></td>\n",
       "      <td>해외유입</td>\n",
       "      <td>grp04</td>\n",
       "      <td></td>\n",
       "      <td>Primary</td>\n",
       "    </tr>\n",
       "  </tbody>\n",
       "</table>\n",
       "</div>"
      ],
      "text/plain": [
       "    확진자 성별  나이(만) 연령대       확진일자         증상발현일 무증상/조사중  경기번호     지역 재검출  감염경로  \\\n",
       "연번                                                                              \n",
       "1.0   3  M     54  50 2020-01-26  2020. 1. 22.          고양-1  고양일산서      해외유입   \n",
       "2.0   4  M     55  50 2020-01-27  2020. 1. 25.          평택-1     평택      해외유입   \n",
       "3.0  12  M     48  40 2020-02-01  2020. 1. 20.          부천-1     부천      해외유입   \n",
       "4.0  14  F     40  40 2020-02-02  2020. 1. 29.          부천-2     부천      해외유입   \n",
       "5.0  15  M     42  40 2020-02-02   2020. 2. 1.          수원-1   수원장안      해외유입   \n",
       "\n",
       "       GRP 구분2       구분  \n",
       "연번                       \n",
       "1.0  grp01      Primary  \n",
       "2.0  grp02      Primary  \n",
       "3.0  grp03      Primary  \n",
       "4.0  grp03          접촉자  \n",
       "5.0  grp04      Primary  "
      ]
     },
     "execution_count": 383,
     "metadata": {},
     "output_type": "execute_result"
    }
   ],
   "source": [
    "full_data[\"확진일자\"] = pd.to_datetime(full_data[\"확진일자\"], format = '%Y. %m. %d.')\n",
    "full_data.head()"
   ]
  },
  {
   "cell_type": "code",
   "execution_count": null,
   "metadata": {},
   "outputs": [],
   "source": []
  },
  {
   "cell_type": "code",
   "execution_count": 385,
   "metadata": {},
   "outputs": [
    {
     "data": {
      "text/plain": [
       "array(['해외유입', '대구경북_일반', '대구_신천지', '과천_신천지', '불명확', '서울_콜센터', '천안세종_줌바'],\n",
       "      dtype=object)"
      ]
     },
     "execution_count": 385,
     "metadata": {},
     "output_type": "execute_result"
    }
   ],
   "source": [
    "tmp_data=full_data[['확진일자','감염경로']]\n",
    "tmp_data['감염경로'].unique()"
   ]
  },
  {
   "cell_type": "code",
   "execution_count": 386,
   "metadata": {},
   "outputs": [
    {
     "data": {
      "text/html": [
       "<div>\n",
       "<style scoped>\n",
       "    .dataframe tbody tr th:only-of-type {\n",
       "        vertical-align: middle;\n",
       "    }\n",
       "\n",
       "    .dataframe tbody tr th {\n",
       "        vertical-align: top;\n",
       "    }\n",
       "\n",
       "    .dataframe thead th {\n",
       "        text-align: right;\n",
       "    }\n",
       "</style>\n",
       "<table border=\"1\" class=\"dataframe\">\n",
       "  <thead>\n",
       "    <tr style=\"text-align: right;\">\n",
       "      <th></th>\n",
       "      <th>확진일자</th>\n",
       "      <th>감염경로</th>\n",
       "    </tr>\n",
       "    <tr>\n",
       "      <th>연번</th>\n",
       "      <th></th>\n",
       "      <th></th>\n",
       "    </tr>\n",
       "  </thead>\n",
       "  <tbody>\n",
       "    <tr>\n",
       "      <th>1.0</th>\n",
       "      <td>2020-01-26</td>\n",
       "      <td>해외유입</td>\n",
       "    </tr>\n",
       "    <tr>\n",
       "      <th>2.0</th>\n",
       "      <td>2020-01-27</td>\n",
       "      <td>해외유입</td>\n",
       "    </tr>\n",
       "    <tr>\n",
       "      <th>3.0</th>\n",
       "      <td>2020-02-01</td>\n",
       "      <td>해외유입</td>\n",
       "    </tr>\n",
       "  </tbody>\n",
       "</table>\n",
       "</div>"
      ],
      "text/plain": [
       "          확진일자  감염경로\n",
       "연번                  \n",
       "1.0 2020-01-26  해외유입\n",
       "2.0 2020-01-27  해외유입\n",
       "3.0 2020-02-01  해외유입"
      ]
     },
     "execution_count": 386,
     "metadata": {},
     "output_type": "execute_result"
    }
   ],
   "source": [
    "## ['감염경로'] == \"해외유입\"\n",
    "\n",
    "overseas_inflow=tmp_data[tmp_data['감염경로']=='해외유입']\n",
    "overseas_inflow.head(3)"
   ]
  },
  {
   "cell_type": "code",
   "execution_count": 387,
   "metadata": {},
   "outputs": [
    {
     "data": {
      "text/html": [
       "<div>\n",
       "<style scoped>\n",
       "    .dataframe tbody tr th:only-of-type {\n",
       "        vertical-align: middle;\n",
       "    }\n",
       "\n",
       "    .dataframe tbody tr th {\n",
       "        vertical-align: top;\n",
       "    }\n",
       "\n",
       "    .dataframe thead th {\n",
       "        text-align: right;\n",
       "    }\n",
       "</style>\n",
       "<table border=\"1\" class=\"dataframe\">\n",
       "  <thead>\n",
       "    <tr style=\"text-align: right;\">\n",
       "      <th></th>\n",
       "      <th>감염경로</th>\n",
       "    </tr>\n",
       "    <tr>\n",
       "      <th>확진일자</th>\n",
       "      <th></th>\n",
       "    </tr>\n",
       "  </thead>\n",
       "  <tbody>\n",
       "    <tr>\n",
       "      <th>2020-01-26</th>\n",
       "      <td>1</td>\n",
       "    </tr>\n",
       "    <tr>\n",
       "      <th>2020-01-27</th>\n",
       "      <td>1</td>\n",
       "    </tr>\n",
       "    <tr>\n",
       "      <th>2020-02-01</th>\n",
       "      <td>1</td>\n",
       "    </tr>\n",
       "  </tbody>\n",
       "</table>\n",
       "</div>"
      ],
      "text/plain": [
       "            감염경로\n",
       "확진일자            \n",
       "2020-01-26     1\n",
       "2020-01-27     1\n",
       "2020-02-01     1"
      ]
     },
     "execution_count": 387,
     "metadata": {},
     "output_type": "execute_result"
    }
   ],
   "source": [
    "overseas_inflow=overseas_inflow.groupby('확진일자')\n",
    "overseas_inflow=overseas_inflow.count()\n",
    "overseas_inflow.head(3)"
   ]
  },
  {
   "cell_type": "code",
   "execution_count": 388,
   "metadata": {},
   "outputs": [
    {
     "data": {
      "text/plain": [
       "<matplotlib.axes._subplots.AxesSubplot at 0x1dee7a74860>"
      ]
     },
     "execution_count": 388,
     "metadata": {},
     "output_type": "execute_result"
    },
    {
     "data": {
      "image/png": "[encoded data removed]",
      "text/plain": [
       "<Figure size 864x288 with 1 Axes>"
      ]
     },
     "metadata": {
      "needs_background": "light"
     },
     "output_type": "display_data"
    }
   ],
   "source": [
    "overseas_inflow.plot(figsize=(12,4))"
   ]
  },
  {
   "cell_type": "code",
   "execution_count": 389,
   "metadata": {},
   "outputs": [
    {
     "data": {
      "text/plain": [
       "(81, 2)"
      ]
     },
     "execution_count": 389,
     "metadata": {},
     "output_type": "execute_result"
    }
   ],
   "source": [
    "## ['감염경로'] == \"신천지\"\n",
    "\n",
    "shincheonji=tmp_data[ (tmp_data['감염경로']=='대구_신천지') | (tmp_data['감염경로']=='과천_신천지') | (tmp_data['감염경로']=='대구경북_일반')]\n",
    "shincheonji.shape"
   ]
  },
  {
   "cell_type": "code",
   "execution_count": 390,
   "metadata": {},
   "outputs": [
    {
     "data": {
      "text/html": [
       "<div>\n",
       "<style scoped>\n",
       "    .dataframe tbody tr th:only-of-type {\n",
       "        vertical-align: middle;\n",
       "    }\n",
       "\n",
       "    .dataframe tbody tr th {\n",
       "        vertical-align: top;\n",
       "    }\n",
       "\n",
       "    .dataframe thead th {\n",
       "        text-align: right;\n",
       "    }\n",
       "</style>\n",
       "<table border=\"1\" class=\"dataframe\">\n",
       "  <thead>\n",
       "    <tr style=\"text-align: right;\">\n",
       "      <th></th>\n",
       "      <th>감염경로</th>\n",
       "    </tr>\n",
       "    <tr>\n",
       "      <th>확진일자</th>\n",
       "      <th></th>\n",
       "    </tr>\n",
       "  </thead>\n",
       "  <tbody>\n",
       "    <tr>\n",
       "      <th>2020-02-20</th>\n",
       "      <td>1</td>\n",
       "    </tr>\n",
       "    <tr>\n",
       "      <th>2020-02-21</th>\n",
       "      <td>2</td>\n",
       "    </tr>\n",
       "    <tr>\n",
       "      <th>2020-02-22</th>\n",
       "      <td>7</td>\n",
       "    </tr>\n",
       "  </tbody>\n",
       "</table>\n",
       "</div>"
      ],
      "text/plain": [
       "            감염경로\n",
       "확진일자            \n",
       "2020-02-20     1\n",
       "2020-02-21     2\n",
       "2020-02-22     7"
      ]
     },
     "execution_count": 390,
     "metadata": {},
     "output_type": "execute_result"
    }
   ],
   "source": [
    "shincheonji=shincheonji.groupby('확진일자')\n",
    "shincheonji=shincheonji.count()\n",
    "shincheonji.head(3)"
   ]
  },
  {
   "cell_type": "code",
   "execution_count": 391,
   "metadata": {},
   "outputs": [
    {
     "data": {
      "text/plain": [
       "<matplotlib.axes._subplots.AxesSubplot at 0x1dee8b412b0>"
      ]
     },
     "execution_count": 391,
     "metadata": {},
     "output_type": "execute_result"
    },
    {
     "data": {
      "image/png": "[encoded data removed]",
      "text/plain": [
       "<Figure size 864x288 with 1 Axes>"
      ]
     },
     "metadata": {
      "needs_background": "light"
     },
     "output_type": "display_data"
    }
   ],
   "source": [
    "shincheonji.plot(figsize=(12,4))"
   ]
  },
  {
   "cell_type": "code",
   "execution_count": 392,
   "metadata": {},
   "outputs": [
    {
     "name": "stdout",
     "output_type": "stream",
     "text": [
      "(54, 2)\n"
     ]
    },
    {
     "data": {
      "text/plain": [
       "<matplotlib.axes._subplots.AxesSubplot at 0x1dee8b9e1d0>"
      ]
     },
     "execution_count": 392,
     "metadata": {},
     "output_type": "execute_result"
    },
    {
     "data": {
      "image/png": "[encoded data removed]",
      "text/plain": [
       "<Figure size 864x288 with 1 Axes>"
      ]
     },
     "metadata": {
      "needs_background": "light"
     },
     "output_type": "display_data"
    }
   ],
   "source": [
    "## ['감염경로'] == \"서울_콜센터\"\n",
    "\n",
    "call_center=tmp_data[tmp_data['감염경로']=='서울_콜센터']\n",
    "print(call_center.shape)\n",
    "\n",
    "call_center=call_center.groupby('확진일자')\n",
    "call_center=call_center.count()\n",
    "call_center.plot(figsize=(12,4))"
   ]
  },
  {
   "cell_type": "code",
   "execution_count": 393,
   "metadata": {},
   "outputs": [
    {
     "data": {
      "text/plain": [
       "<matplotlib.axes._subplots.AxesSubplot at 0x1dee8bd9cc0>"
      ]
     },
     "execution_count": 393,
     "metadata": {},
     "output_type": "execute_result"
    },
    {
     "data": {
      "image/png": "[encoded data removed]",
      "text/plain": [
       "<Figure size 864x288 with 1 Axes>"
      ]
     },
     "metadata": {
      "needs_background": "light"
     },
     "output_type": "display_data"
    }
   ],
   "source": [
    "### 감염경로 = 천안세종_줌바\n",
    "\n",
    "zumba=tmp_data[tmp_data['감염경로']=='천안세종_줌바']\n",
    "zumba=zumba.groupby('확진일자')\n",
    "zumba=zumba.count()\n",
    "zumba.plot(figsize=(12,4))"
   ]
  },
  {
   "cell_type": "code",
   "execution_count": null,
   "metadata": {},
   "outputs": [],
   "source": []
  },
  {
   "cell_type": "markdown",
   "metadata": {},
   "source": [
    "#### 전체 데이터에서 큰 사건 제외하기"
   ]
  },
  {
   "cell_type": "code",
   "execution_count": 484,
   "metadata": {},
   "outputs": [
    {
     "data": {
      "text/html": [
       "<div>\n",
       "<style scoped>\n",
       "    .dataframe tbody tr th:only-of-type {\n",
       "        vertical-align: middle;\n",
       "    }\n",
       "\n",
       "    .dataframe tbody tr th {\n",
       "        vertical-align: top;\n",
       "    }\n",
       "\n",
       "    .dataframe thead th {\n",
       "        text-align: right;\n",
       "    }\n",
       "</style>\n",
       "<table border=\"1\" class=\"dataframe\">\n",
       "  <thead>\n",
       "    <tr style=\"text-align: right;\">\n",
       "      <th></th>\n",
       "      <th>overseas_inflow</th>\n",
       "      <th>shincheonji</th>\n",
       "      <th>call_center</th>\n",
       "      <th>zumba</th>\n",
       "    </tr>\n",
       "    <tr>\n",
       "      <th>확진일자</th>\n",
       "      <th></th>\n",
       "      <th></th>\n",
       "      <th></th>\n",
       "      <th></th>\n",
       "    </tr>\n",
       "  </thead>\n",
       "  <tbody>\n",
       "    <tr>\n",
       "      <th>2020-01-26</th>\n",
       "      <td>1.0</td>\n",
       "      <td>NaN</td>\n",
       "      <td>NaN</td>\n",
       "      <td>NaN</td>\n",
       "    </tr>\n",
       "    <tr>\n",
       "      <th>2020-01-27</th>\n",
       "      <td>1.0</td>\n",
       "      <td>NaN</td>\n",
       "      <td>NaN</td>\n",
       "      <td>NaN</td>\n",
       "    </tr>\n",
       "    <tr>\n",
       "      <th>2020-02-01</th>\n",
       "      <td>1.0</td>\n",
       "      <td>NaN</td>\n",
       "      <td>NaN</td>\n",
       "      <td>NaN</td>\n",
       "    </tr>\n",
       "    <tr>\n",
       "      <th>2020-02-02</th>\n",
       "      <td>2.0</td>\n",
       "      <td>NaN</td>\n",
       "      <td>NaN</td>\n",
       "      <td>NaN</td>\n",
       "    </tr>\n",
       "    <tr>\n",
       "      <th>2020-02-05</th>\n",
       "      <td>2.0</td>\n",
       "      <td>NaN</td>\n",
       "      <td>NaN</td>\n",
       "      <td>NaN</td>\n",
       "    </tr>\n",
       "    <tr>\n",
       "      <th>2020-02-09</th>\n",
       "      <td>3.0</td>\n",
       "      <td>NaN</td>\n",
       "      <td>NaN</td>\n",
       "      <td>NaN</td>\n",
       "    </tr>\n",
       "    <tr>\n",
       "      <th>2020-02-10</th>\n",
       "      <td>1.0</td>\n",
       "      <td>NaN</td>\n",
       "      <td>NaN</td>\n",
       "      <td>NaN</td>\n",
       "    </tr>\n",
       "    <tr>\n",
       "      <th>2020-02-18</th>\n",
       "      <td>1.0</td>\n",
       "      <td>NaN</td>\n",
       "      <td>NaN</td>\n",
       "      <td>NaN</td>\n",
       "    </tr>\n",
       "    <tr>\n",
       "      <th>2020-02-20</th>\n",
       "      <td>NaN</td>\n",
       "      <td>1.0</td>\n",
       "      <td>NaN</td>\n",
       "      <td>NaN</td>\n",
       "    </tr>\n",
       "    <tr>\n",
       "      <th>2020-02-21</th>\n",
       "      <td>NaN</td>\n",
       "      <td>2.0</td>\n",
       "      <td>NaN</td>\n",
       "      <td>NaN</td>\n",
       "    </tr>\n",
       "  </tbody>\n",
       "</table>\n",
       "</div>"
      ],
      "text/plain": [
       "            overseas_inflow  shincheonji  call_center  zumba\n",
       "확진일자                                                        \n",
       "2020-01-26              1.0          NaN          NaN    NaN\n",
       "2020-01-27              1.0          NaN          NaN    NaN\n",
       "2020-02-01              1.0          NaN          NaN    NaN\n",
       "2020-02-02              2.0          NaN          NaN    NaN\n",
       "2020-02-05              2.0          NaN          NaN    NaN\n",
       "2020-02-09              3.0          NaN          NaN    NaN\n",
       "2020-02-10              1.0          NaN          NaN    NaN\n",
       "2020-02-18              1.0          NaN          NaN    NaN\n",
       "2020-02-20              NaN          1.0          NaN    NaN\n",
       "2020-02-21              NaN          2.0          NaN    NaN"
      ]
     },
     "execution_count": 484,
     "metadata": {},
     "output_type": "execute_result"
    }
   ],
   "source": [
    "mergeDF=pd.concat([overseas_inflow,shincheonji,call_center, zumba], axis=1)\n",
    "mergeDF.columns=['overseas_inflow','shincheonji','call_center','zumba']\n",
    "mergeDF.head(10)"
   ]
  },
  {
   "cell_type": "code",
   "execution_count": 440,
   "metadata": {},
   "outputs": [
    {
     "data": {
      "text/plain": [
       "<matplotlib.axes._subplots.AxesSubplot at 0x1dee904cb38>"
      ]
     },
     "execution_count": 440,
     "metadata": {},
     "output_type": "execute_result"
    },
    {
     "data": {
      "image/png": "[encoded data removed]",
      "text/plain": [
       "<Figure size 864x432 with 1 Axes>"
      ]
     },
     "metadata": {
      "needs_background": "light"
     },
     "output_type": "display_data"
    }
   ],
   "source": [
    "mergeDF.plot(figsize=(12,6))"
   ]
  },
  {
   "cell_type": "code",
   "execution_count": 466,
   "metadata": {},
   "outputs": [
    {
     "data": {
      "text/html": [
       "<div>\n",
       "<style scoped>\n",
       "    .dataframe tbody tr th:only-of-type {\n",
       "        vertical-align: middle;\n",
       "    }\n",
       "\n",
       "    .dataframe tbody tr th {\n",
       "        vertical-align: top;\n",
       "    }\n",
       "\n",
       "    .dataframe thead th {\n",
       "        text-align: right;\n",
       "    }\n",
       "</style>\n",
       "<table border=\"1\" class=\"dataframe\">\n",
       "  <thead>\n",
       "    <tr style=\"text-align: right;\">\n",
       "      <th></th>\n",
       "      <th>확진자수</th>\n",
       "    </tr>\n",
       "    <tr>\n",
       "      <th>확진일자</th>\n",
       "      <th></th>\n",
       "    </tr>\n",
       "  </thead>\n",
       "  <tbody>\n",
       "    <tr>\n",
       "      <th>2020-01-26</th>\n",
       "      <td>1.0</td>\n",
       "    </tr>\n",
       "    <tr>\n",
       "      <th>2020-01-27</th>\n",
       "      <td>1.0</td>\n",
       "    </tr>\n",
       "    <tr>\n",
       "      <th>2020-02-01</th>\n",
       "      <td>1.0</td>\n",
       "    </tr>\n",
       "  </tbody>\n",
       "</table>\n",
       "</div>"
      ],
      "text/plain": [
       "            확진자수\n",
       "확진일자            \n",
       "2020-01-26   1.0\n",
       "2020-01-27   1.0\n",
       "2020-02-01   1.0"
      ]
     },
     "execution_count": 466,
     "metadata": {},
     "output_type": "execute_result"
    }
   ],
   "source": [
    "mergeDF=mergeDF.sum(axis=1)\n",
    "\n",
    "mergeDF=pd.DataFrame(mergeDF, columns=['확진자수'])\n",
    "mergeDF.head(3)"
   ]
  },
  {
   "cell_type": "code",
   "execution_count": null,
   "metadata": {},
   "outputs": [],
   "source": []
  },
  {
   "cell_type": "code",
   "execution_count": 478,
   "metadata": {},
   "outputs": [
    {
     "data": {
      "text/html": [
       "<div>\n",
       "<style scoped>\n",
       "    .dataframe tbody tr th:only-of-type {\n",
       "        vertical-align: middle;\n",
       "    }\n",
       "\n",
       "    .dataframe tbody tr th {\n",
       "        vertical-align: top;\n",
       "    }\n",
       "\n",
       "    .dataframe thead th {\n",
       "        text-align: right;\n",
       "    }\n",
       "</style>\n",
       "<table border=\"1\" class=\"dataframe\">\n",
       "  <thead>\n",
       "    <tr style=\"text-align: right;\">\n",
       "      <th></th>\n",
       "      <th>확진자수</th>\n",
       "    </tr>\n",
       "    <tr>\n",
       "      <th>날짜</th>\n",
       "      <th></th>\n",
       "    </tr>\n",
       "  </thead>\n",
       "  <tbody>\n",
       "    <tr>\n",
       "      <th>2020-01-23</th>\n",
       "      <td>1</td>\n",
       "    </tr>\n",
       "    <tr>\n",
       "      <th>2020-01-24</th>\n",
       "      <td>1</td>\n",
       "    </tr>\n",
       "    <tr>\n",
       "      <th>2020-01-26</th>\n",
       "      <td>1</td>\n",
       "    </tr>\n",
       "  </tbody>\n",
       "</table>\n",
       "</div>"
      ],
      "text/plain": [
       "            확진자수\n",
       "날짜              \n",
       "2020-01-23     1\n",
       "2020-01-24     1\n",
       "2020-01-26     1"
      ]
     },
     "execution_count": 478,
     "metadata": {},
     "output_type": "execute_result"
    }
   ],
   "source": [
    "total_cnt.head(3)"
   ]
  },
  {
   "cell_type": "code",
   "execution_count": 479,
   "metadata": {},
   "outputs": [
    {
     "data": {
      "text/html": [
       "<div>\n",
       "<style scoped>\n",
       "    .dataframe tbody tr th:only-of-type {\n",
       "        vertical-align: middle;\n",
       "    }\n",
       "\n",
       "    .dataframe tbody tr th {\n",
       "        vertical-align: top;\n",
       "    }\n",
       "\n",
       "    .dataframe thead th {\n",
       "        text-align: right;\n",
       "    }\n",
       "</style>\n",
       "<table border=\"1\" class=\"dataframe\">\n",
       "  <thead>\n",
       "    <tr style=\"text-align: right;\">\n",
       "      <th></th>\n",
       "      <th>확진자수_x</th>\n",
       "      <th>확진자수_y</th>\n",
       "    </tr>\n",
       "  </thead>\n",
       "  <tbody>\n",
       "    <tr>\n",
       "      <th>2020-01-23</th>\n",
       "      <td>1.0</td>\n",
       "      <td>0.0</td>\n",
       "    </tr>\n",
       "    <tr>\n",
       "      <th>2020-01-24</th>\n",
       "      <td>1.0</td>\n",
       "      <td>0.0</td>\n",
       "    </tr>\n",
       "    <tr>\n",
       "      <th>2020-01-26</th>\n",
       "      <td>1.0</td>\n",
       "      <td>1.0</td>\n",
       "    </tr>\n",
       "    <tr>\n",
       "      <th>2020-01-27</th>\n",
       "      <td>1.0</td>\n",
       "      <td>1.0</td>\n",
       "    </tr>\n",
       "    <tr>\n",
       "      <th>2020-01-28</th>\n",
       "      <td>0.0</td>\n",
       "      <td>0.0</td>\n",
       "    </tr>\n",
       "  </tbody>\n",
       "</table>\n",
       "</div>"
      ],
      "text/plain": [
       "            확진자수_x  확진자수_y\n",
       "2020-01-23     1.0     0.0\n",
       "2020-01-24     1.0     0.0\n",
       "2020-01-26     1.0     1.0\n",
       "2020-01-27     1.0     1.0\n",
       "2020-01-28     0.0     0.0"
      ]
     },
     "execution_count": 479,
     "metadata": {},
     "output_type": "execute_result"
    }
   ],
   "source": [
    "merge=pd.merge(total_cnt,mergeDF, left_index=True, right_index=True, how='outer' )\n",
    "merge=merge.fillna(0)\n",
    "merge.head()"
   ]
  },
  {
   "cell_type": "code",
   "execution_count": 480,
   "metadata": {},
   "outputs": [
    {
     "data": {
      "text/plain": [
       "2020-01-23    1.0\n",
       "2020-01-24    1.0\n",
       "2020-01-26    0.0\n",
       "2020-01-27    0.0\n",
       "2020-01-28    0.0\n",
       "2020-01-29    0.0\n",
       "2020-01-30    0.0\n",
       "2020-02-01    7.0\n",
       "2020-02-02    1.0\n",
       "2020-02-03    0.0\n",
       "2020-02-04    1.0\n",
       "2020-02-05    0.0\n",
       "2020-02-06    5.0\n",
       "2020-02-07    1.0\n",
       "2020-02-08    0.0\n",
       "2020-02-09    0.0\n",
       "2020-02-10   -1.0\n",
       "2020-02-11    1.0\n",
       "2020-02-12    0.0\n",
       "2020-02-13    0.0\n",
       "dtype: float64"
      ]
     },
     "execution_count": 480,
     "metadata": {},
     "output_type": "execute_result"
    }
   ],
   "source": [
    "# 전체 확진자에서 큰 사건들로 인한 확진자 제외시키기\n",
    "\n",
    "sub_data=merge[\"확진자수_x\"]-merge[\"확진자수_y\"]\n",
    "sub_data.head(20)"
   ]
  },
  {
   "cell_type": "code",
   "execution_count": 487,
   "metadata": {},
   "outputs": [
    {
     "data": {
      "text/plain": [
       "<matplotlib.axes._subplots.AxesSubplot at 0x1dee5df6048>"
      ]
     },
     "execution_count": 487,
     "metadata": {},
     "output_type": "execute_result"
    },
    {
     "data": {
      "image/png": "[encoded data removed]",
      "text/plain": [
       "<Figure size 864x432 with 1 Axes>"
      ]
     },
     "metadata": {
      "needs_background": "light"
     },
     "output_type": "display_data"
    }
   ],
   "source": [
    "sub_data.plot(figsize=(12,6))"
   ]
  },
  {
   "cell_type": "code",
   "execution_count": 489,
   "metadata": {},
   "outputs": [
    {
     "data": {
      "text/plain": [
       "<matplotlib.axes._subplots.AxesSubplot at 0x1deea428c18>"
      ]
     },
     "execution_count": 489,
     "metadata": {},
     "output_type": "execute_result"
    },
    {
     "data": {
      "image/png": "[encoded data removed]",
      "text/plain": [
       "<Figure size 864x432 with 1 Axes>"
      ]
     },
     "metadata": {
      "needs_background": "light"
     },
     "output_type": "display_data"
    }
   ],
   "source": [
    "# 기존의 전체 데이터와 큰 사건을 제외한 데이터 비교\n",
    "\n",
    "total_cnt.plot(figsize=(12,6))"
   ]
  },
  {
   "cell_type": "code",
   "execution_count": null,
   "metadata": {},
   "outputs": [],
   "source": [
    "# 큰 사건이 일어나기 이전에는 낮은 증가율을 보임. \n",
    "# 하지만 전체 확진자수와 큰 사건에 의한 확진자수를 제거한 데이터를 비교해보았을 때, 큰 차이는 없어보임\n",
    "## == 감염경로가 \"불명확\" 한 경우가 크게 영향을 미친다.\n",
    "\n",
    "## --> 감염경로가 \"불명확\"하다고 표기되어있지만 큰 사건과 큰 연관성을 가지고 있을 것이다."
   ]
  },
  {
   "cell_type": "code",
   "execution_count": null,
   "metadata": {},
   "outputs": [],
   "source": []
  },
  {
   "cell_type": "code",
   "execution_count": null,
   "metadata": {},
   "outputs": [],
   "source": []
  }
 ],
 "metadata": {
  "kernelspec": {
   "display_name": "Python 3",
   "language": "python",
   "name": "python3"
  },
  "language_info": {
   "codemirror_mode": {
    "name": "ipython",
    "version": 3
   },
   "file_extension": ".py",
   "mimetype": "text/x-python",
   "name": "python",
   "nbconvert_exporter": "python",
   "pygments_lexer": "ipython3",
   "version": "3.7.3"
  }
 },
 "nbformat": 4,
 "nbformat_minor": 4
}
