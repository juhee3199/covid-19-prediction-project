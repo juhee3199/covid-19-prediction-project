{
 "cells": [
  {
   "cell_type": "markdown",
   "metadata": {},
   "source": [
    "### 추석 또는 연휴 기간동안의 교통량 증가율\n"
   ]
  },
  {
   "cell_type": "code",
   "execution_count": 3,
   "metadata": {},
   "outputs": [
    {
     "data": {
      "text/html": [
       "<div>\n",
       "<style scoped>\n",
       "    .dataframe tbody tr th:only-of-type {\n",
       "        vertical-align: middle;\n",
       "    }\n",
       "\n",
       "    .dataframe tbody tr th {\n",
       "        vertical-align: top;\n",
       "    }\n",
       "\n",
       "    .dataframe thead th {\n",
       "        text-align: right;\n",
       "    }\n",
       "</style>\n",
       "<table border=\"1\" class=\"dataframe\">\n",
       "  <thead>\n",
       "    <tr style=\"text-align: right;\">\n",
       "      <th></th>\n",
       "      <th>일자</th>\n",
       "      <th>영업소명</th>\n",
       "      <th>방향구분</th>\n",
       "      <th>영업소코드</th>\n",
       "      <th>기점종점방향구분코드</th>\n",
       "      <th>당일교통량</th>\n",
       "      <th>전주교통량</th>\n",
       "      <th>전전주교통량</th>\n",
       "      <th>전월평균교통량</th>\n",
       "      <th>전년동주교통량</th>\n",
       "      <th>전년평균교통량</th>\n",
       "    </tr>\n",
       "  </thead>\n",
       "  <tbody>\n",
       "    <tr>\n",
       "      <th>0</th>\n",
       "      <td>20190102.0</td>\n",
       "      <td>구리남양주</td>\n",
       "      <td>서울방향</td>\n",
       "      <td>6.0</td>\n",
       "      <td>2.0</td>\n",
       "      <td>93775.0</td>\n",
       "      <td>98074.0</td>\n",
       "      <td>99906.0</td>\n",
       "      <td>96135.0</td>\n",
       "      <td>0.0</td>\n",
       "      <td>99867.0</td>\n",
       "    </tr>\n",
       "    <tr>\n",
       "      <th>1</th>\n",
       "      <td>20190103.0</td>\n",
       "      <td>구리남양주</td>\n",
       "      <td>서울방향</td>\n",
       "      <td>6.0</td>\n",
       "      <td>2.0</td>\n",
       "      <td>98413.0</td>\n",
       "      <td>97745.0</td>\n",
       "      <td>100088.0</td>\n",
       "      <td>96135.0</td>\n",
       "      <td>0.0</td>\n",
       "      <td>99867.0</td>\n",
       "    </tr>\n",
       "    <tr>\n",
       "      <th>2</th>\n",
       "      <td>20190104.0</td>\n",
       "      <td>구리남양주</td>\n",
       "      <td>서울방향</td>\n",
       "      <td>6.0</td>\n",
       "      <td>2.0</td>\n",
       "      <td>101327.0</td>\n",
       "      <td>103745.0</td>\n",
       "      <td>107940.0</td>\n",
       "      <td>96135.0</td>\n",
       "      <td>0.0</td>\n",
       "      <td>99867.0</td>\n",
       "    </tr>\n",
       "    <tr>\n",
       "      <th>3</th>\n",
       "      <td>20190105.0</td>\n",
       "      <td>구리남양주</td>\n",
       "      <td>서울방향</td>\n",
       "      <td>6.0</td>\n",
       "      <td>2.0</td>\n",
       "      <td>92325.0</td>\n",
       "      <td>90912.0</td>\n",
       "      <td>99186.0</td>\n",
       "      <td>96135.0</td>\n",
       "      <td>0.0</td>\n",
       "      <td>99867.0</td>\n",
       "    </tr>\n",
       "    <tr>\n",
       "      <th>4</th>\n",
       "      <td>20190106.0</td>\n",
       "      <td>구리남양주</td>\n",
       "      <td>서울방향</td>\n",
       "      <td>6.0</td>\n",
       "      <td>2.0</td>\n",
       "      <td>71582.0</td>\n",
       "      <td>74171.0</td>\n",
       "      <td>78815.0</td>\n",
       "      <td>96135.0</td>\n",
       "      <td>0.0</td>\n",
       "      <td>99867.0</td>\n",
       "    </tr>\n",
       "  </tbody>\n",
       "</table>\n",
       "</div>"
      ],
      "text/plain": [
       "           일자   영업소명  방향구분  영업소코드   기점종점방향구분코드     당일교통량     전주교통량    전전주교통량  \\\n",
       "0  20190102.0  구리남양주  서울방향    6.0          2.0   93775.0   98074.0   99906.0   \n",
       "1  20190103.0  구리남양주  서울방향    6.0          2.0   98413.0   97745.0  100088.0   \n",
       "2  20190104.0  구리남양주  서울방향    6.0          2.0  101327.0  103745.0  107940.0   \n",
       "3  20190105.0  구리남양주  서울방향    6.0          2.0   92325.0   90912.0   99186.0   \n",
       "4  20190106.0  구리남양주  서울방향    6.0          2.0   71582.0   74171.0   78815.0   \n",
       "\n",
       "    전월평균교통량   전년동주교통량   전년평균교통량  \n",
       "0   96135.0       0.0   99867.0  \n",
       "1   96135.0       0.0   99867.0  \n",
       "2   96135.0       0.0   99867.0  \n",
       "3   96135.0       0.0   99867.0  \n",
       "4   96135.0       0.0   99867.0  "
      ]
     },
     "execution_count": 3,
     "metadata": {},
     "output_type": "execute_result"
    }
   ],
   "source": [
    "import numpy as np\n",
    "import pandas as pd\n",
    "\n",
    "data=pd.read_csv(\"TCS_주간+교통분석(교통량)_1일_1년_2019/TCS_D3_04_04_888332.csv\", encoding='CP949')\n",
    "data.head()"
   ]
  },
  {
   "cell_type": "code",
   "execution_count": 4,
   "metadata": {},
   "outputs": [
    {
     "data": {
      "text/plain": [
       "일자             730\n",
       " 영업소명          730\n",
       " 방향구분          730\n",
       "영업소코드          730\n",
       " 기점종점방향구분코드    730\n",
       " 당일교통량         730\n",
       " 전주교통량         730\n",
       " 전전주교통량        730\n",
       " 전월평균교통량       730\n",
       " 전년동주교통량       730\n",
       " 전년평균교통량       730\n",
       "dtype: int64"
      ]
     },
     "execution_count": 4,
     "metadata": {},
     "output_type": "execute_result"
    }
   ],
   "source": [
    "data.isnull().sum()"
   ]
  },
  {
   "cell_type": "code",
   "execution_count": 5,
   "metadata": {},
   "outputs": [
    {
     "data": {
      "text/plain": [
       "일자             0\n",
       " 영업소명          0\n",
       " 방향구분          0\n",
       "영업소코드          0\n",
       " 기점종점방향구분코드    0\n",
       " 당일교통량         0\n",
       " 전주교통량         0\n",
       " 전전주교통량        0\n",
       " 전월평균교통량       0\n",
       " 전년동주교통량       0\n",
       " 전년평균교통량       0\n",
       "dtype: int64"
      ]
     },
     "execution_count": 5,
     "metadata": {},
     "output_type": "execute_result"
    }
   ],
   "source": [
    "data=data.dropna(axis=0)\n",
    "data.isnull().sum()"
   ]
  },
  {
   "cell_type": "code",
   "execution_count": 6,
   "metadata": {},
   "outputs": [
    {
     "name": "stdout",
     "output_type": "stream",
     "text": [
      "<class 'pandas.core.frame.DataFrame'>\n",
      "Int64Index: 3864 entries, 0 to 3863\n",
      "Data columns (total 11 columns):\n",
      "일자             3864 non-null float64\n",
      " 영업소명          3864 non-null object\n",
      " 방향구분          3864 non-null object\n",
      "영업소코드          3864 non-null float64\n",
      " 기점종점방향구분코드    3864 non-null float64\n",
      " 당일교통량         3864 non-null float64\n",
      " 전주교통량         3864 non-null float64\n",
      " 전전주교통량        3864 non-null float64\n",
      " 전월평균교통량       3864 non-null float64\n",
      " 전년동주교통량       3864 non-null float64\n",
      " 전년평균교통량       3864 non-null float64\n",
      "dtypes: float64(9), object(2)\n",
      "memory usage: 362.2+ KB\n"
     ]
    }
   ],
   "source": [
    "data.info()"
   ]
  },
  {
   "cell_type": "code",
   "execution_count": 7,
   "metadata": {},
   "outputs": [
    {
     "data": {
      "text/plain": [
       "Index(['일자', '영업소명', '방향구분', '영업소코드', '기점종점방향구분코드', '당일교통량', '전주교통량', '전전주교통량',\n",
       "       '전월평균교통량', '전년동주교통량', '전년평균교통량'],\n",
       "      dtype='object')"
      ]
     },
     "execution_count": 7,
     "metadata": {},
     "output_type": "execute_result"
    }
   ],
   "source": [
    "data.columns=data.columns.str.strip()\n",
    "data.columns"
   ]
  },
  {
   "cell_type": "code",
   "execution_count": 8,
   "metadata": {},
   "outputs": [
    {
     "data": {
      "text/html": [
       "<div>\n",
       "<style scoped>\n",
       "    .dataframe tbody tr th:only-of-type {\n",
       "        vertical-align: middle;\n",
       "    }\n",
       "\n",
       "    .dataframe tbody tr th {\n",
       "        vertical-align: top;\n",
       "    }\n",
       "\n",
       "    .dataframe thead th {\n",
       "        text-align: right;\n",
       "    }\n",
       "</style>\n",
       "<table border=\"1\" class=\"dataframe\">\n",
       "  <thead>\n",
       "    <tr style=\"text-align: right;\">\n",
       "      <th></th>\n",
       "      <th>일자</th>\n",
       "      <th>영업소명</th>\n",
       "      <th>방향구분</th>\n",
       "      <th>영업소코드</th>\n",
       "      <th>기점종점방향구분코드</th>\n",
       "      <th>당일교통량</th>\n",
       "      <th>전주교통량</th>\n",
       "      <th>전전주교통량</th>\n",
       "      <th>전월평균교통량</th>\n",
       "      <th>전년동주교통량</th>\n",
       "      <th>전년평균교통량</th>\n",
       "    </tr>\n",
       "  </thead>\n",
       "  <tbody>\n",
       "    <tr>\n",
       "      <th>0</th>\n",
       "      <td>20190102</td>\n",
       "      <td>구리남양주</td>\n",
       "      <td>서울방향</td>\n",
       "      <td>6</td>\n",
       "      <td>2</td>\n",
       "      <td>93775</td>\n",
       "      <td>98074</td>\n",
       "      <td>99906</td>\n",
       "      <td>96135</td>\n",
       "      <td>0</td>\n",
       "      <td>99867</td>\n",
       "    </tr>\n",
       "    <tr>\n",
       "      <th>1</th>\n",
       "      <td>20190103</td>\n",
       "      <td>구리남양주</td>\n",
       "      <td>서울방향</td>\n",
       "      <td>6</td>\n",
       "      <td>2</td>\n",
       "      <td>98413</td>\n",
       "      <td>97745</td>\n",
       "      <td>100088</td>\n",
       "      <td>96135</td>\n",
       "      <td>0</td>\n",
       "      <td>99867</td>\n",
       "    </tr>\n",
       "    <tr>\n",
       "      <th>2</th>\n",
       "      <td>20190104</td>\n",
       "      <td>구리남양주</td>\n",
       "      <td>서울방향</td>\n",
       "      <td>6</td>\n",
       "      <td>2</td>\n",
       "      <td>101327</td>\n",
       "      <td>103745</td>\n",
       "      <td>107940</td>\n",
       "      <td>96135</td>\n",
       "      <td>0</td>\n",
       "      <td>99867</td>\n",
       "    </tr>\n",
       "  </tbody>\n",
       "</table>\n",
       "</div>"
      ],
      "text/plain": [
       "         일자   영업소명  방향구분  영업소코드  기점종점방향구분코드   당일교통량   전주교통량  전전주교통량  전월평균교통량  \\\n",
       "0  20190102  구리남양주  서울방향      6           2   93775   98074   99906    96135   \n",
       "1  20190103  구리남양주  서울방향      6           2   98413   97745  100088    96135   \n",
       "2  20190104  구리남양주  서울방향      6           2  101327  103745  107940    96135   \n",
       "\n",
       "   전년동주교통량  전년평균교통량  \n",
       "0        0    99867  \n",
       "1        0    99867  \n",
       "2        0    99867  "
      ]
     },
     "execution_count": 8,
     "metadata": {},
     "output_type": "execute_result"
    }
   ],
   "source": [
    "data=data.astype({'일자':int,\n",
    "                  '영업소코드':int, \n",
    "                  '기점종점방향구분코드':int, \n",
    "                  '당일교통량':int,\n",
    "                  '전주교통량':int,\n",
    "                  '전전주교통량':int, \n",
    "                  '전월평균교통량':int, \n",
    "                  '전년동주교통량':int,\n",
    "                  '전년평균교통량':int})\n",
    "data.head(3)"
   ]
  },
  {
   "cell_type": "code",
   "execution_count": 9,
   "metadata": {},
   "outputs": [
    {
     "data": {
      "text/plain": [
       "array(['구리남양주', '서울', '동서울', '서서울', '남양주', '전구간'], dtype=object)"
      ]
     },
     "execution_count": 9,
     "metadata": {},
     "output_type": "execute_result"
    }
   ],
   "source": [
    "data['영업소명'].unique()"
   ]
  },
  {
   "cell_type": "code",
   "execution_count": 10,
   "metadata": {},
   "outputs": [
    {
     "data": {
      "text/plain": [
       "array(['서울방향', '지방방향', '양방향'], dtype=object)"
      ]
     },
     "execution_count": 10,
     "metadata": {},
     "output_type": "execute_result"
    }
   ],
   "source": [
    "data['방향구분'].unique()"
   ]
  },
  {
   "cell_type": "markdown",
   "metadata": {},
   "source": [
    "- 총교통량 "
   ]
  },
  {
   "cell_type": "code",
   "execution_count": 11,
   "metadata": {},
   "outputs": [
    {
     "data": {
      "text/html": [
       "<div>\n",
       "<style scoped>\n",
       "    .dataframe tbody tr th:only-of-type {\n",
       "        vertical-align: middle;\n",
       "    }\n",
       "\n",
       "    .dataframe tbody tr th {\n",
       "        vertical-align: top;\n",
       "    }\n",
       "\n",
       "    .dataframe thead th {\n",
       "        text-align: right;\n",
       "    }\n",
       "</style>\n",
       "<table border=\"1\" class=\"dataframe\">\n",
       "  <thead>\n",
       "    <tr style=\"text-align: right;\">\n",
       "      <th></th>\n",
       "      <th>당일교통량</th>\n",
       "      <th>전주교통량</th>\n",
       "      <th>전전주교통량</th>\n",
       "      <th>전월평균교통량</th>\n",
       "    </tr>\n",
       "    <tr>\n",
       "      <th>일자</th>\n",
       "      <th></th>\n",
       "      <th></th>\n",
       "      <th></th>\n",
       "      <th></th>\n",
       "    </tr>\n",
       "  </thead>\n",
       "  <tbody>\n",
       "    <tr>\n",
       "      <th>20190101</th>\n",
       "      <td>4355834</td>\n",
       "      <td>3997928</td>\n",
       "      <td>5019709</td>\n",
       "      <td>4965918</td>\n",
       "    </tr>\n",
       "    <tr>\n",
       "      <th>20190102</th>\n",
       "      <td>723906</td>\n",
       "      <td>752770</td>\n",
       "      <td>751342</td>\n",
       "      <td>744298</td>\n",
       "    </tr>\n",
       "    <tr>\n",
       "      <th>20190103</th>\n",
       "      <td>4853805</td>\n",
       "      <td>4965393</td>\n",
       "      <td>5121436</td>\n",
       "      <td>4965918</td>\n",
       "    </tr>\n",
       "  </tbody>\n",
       "</table>\n",
       "</div>"
      ],
      "text/plain": [
       "            당일교통량    전주교통량   전전주교통량  전월평균교통량\n",
       "일자                                          \n",
       "20190101  4355834  3997928  5019709  4965918\n",
       "20190102   723906   752770   751342   744298\n",
       "20190103  4853805  4965393  5121436  4965918"
      ]
     },
     "execution_count": 11,
     "metadata": {},
     "output_type": "execute_result"
    }
   ],
   "source": [
    "total=data.drop([ '방향구분', '영업소코드', '기점종점방향구분코드', '전년동주교통량', '전년평균교통량'], axis=1)\n",
    "\n",
    "# 일자로 groupby. (영업소 구분x)\n",
    "total=total.groupby(['일자']).sum()\n",
    "total.head(3)"
   ]
  },
  {
   "cell_type": "markdown",
   "metadata": {},
   "source": [
    "- 2019년 추석연휴 9월12~15일. 추석9/13"
   ]
  },
  {
   "cell_type": "code",
   "execution_count": 12,
   "metadata": {},
   "outputs": [
    {
     "data": {
      "text/html": [
       "<div>\n",
       "<style scoped>\n",
       "    .dataframe tbody tr th:only-of-type {\n",
       "        vertical-align: middle;\n",
       "    }\n",
       "\n",
       "    .dataframe tbody tr th {\n",
       "        vertical-align: top;\n",
       "    }\n",
       "\n",
       "    .dataframe thead th {\n",
       "        text-align: right;\n",
       "    }\n",
       "</style>\n",
       "<table border=\"1\" class=\"dataframe\">\n",
       "  <thead>\n",
       "    <tr style=\"text-align: right;\">\n",
       "      <th></th>\n",
       "      <th>당일교통량</th>\n",
       "      <th>전주교통량</th>\n",
       "      <th>전전주교통량</th>\n",
       "      <th>전월평균교통량</th>\n",
       "    </tr>\n",
       "    <tr>\n",
       "      <th>일자</th>\n",
       "      <th></th>\n",
       "      <th></th>\n",
       "      <th></th>\n",
       "      <th></th>\n",
       "    </tr>\n",
       "  </thead>\n",
       "  <tbody>\n",
       "    <tr>\n",
       "      <th>20190912</th>\n",
       "      <td>5764190</td>\n",
       "      <td>5052335</td>\n",
       "      <td>5299278</td>\n",
       "      <td>5447679</td>\n",
       "    </tr>\n",
       "    <tr>\n",
       "      <th>20190913</th>\n",
       "      <td>7017734</td>\n",
       "      <td>5587281</td>\n",
       "      <td>5882335</td>\n",
       "      <td>5447679</td>\n",
       "    </tr>\n",
       "    <tr>\n",
       "      <th>20190914</th>\n",
       "      <td>5858019</td>\n",
       "      <td>3602932</td>\n",
       "      <td>6138893</td>\n",
       "      <td>5447679</td>\n",
       "    </tr>\n",
       "    <tr>\n",
       "      <th>20190915</th>\n",
       "      <td>4657033</td>\n",
       "      <td>4431920</td>\n",
       "      <td>5418702</td>\n",
       "      <td>5447679</td>\n",
       "    </tr>\n",
       "  </tbody>\n",
       "</table>\n",
       "</div>"
      ],
      "text/plain": [
       "            당일교통량    전주교통량   전전주교통량  전월평균교통량\n",
       "일자                                          \n",
       "20190912  5764190  5052335  5299278  5447679\n",
       "20190913  7017734  5587281  5882335  5447679\n",
       "20190914  5858019  3602932  6138893  5447679\n",
       "20190915  4657033  4431920  5418702  5447679"
      ]
     },
     "execution_count": 12,
     "metadata": {},
     "output_type": "execute_result"
    }
   ],
   "source": [
    "date=range(20190912,20190916)\n",
    "\n",
    "chuseok19 = total.loc[date]\n",
    "chuseok19"
   ]
  },
  {
   "cell_type": "code",
   "execution_count": 13,
   "metadata": {},
   "outputs": [
    {
     "data": {
      "text/plain": [
       "일자\n",
       "20190912    5.266431e+06\n",
       "20190913    5.639098e+06\n",
       "20190914    5.063168e+06\n",
       "20190915    5.099434e+06\n",
       "dtype: float64"
      ]
     },
     "execution_count": 13,
     "metadata": {},
     "output_type": "execute_result"
    }
   ],
   "source": [
    "prev=chuseok19.iloc[:,[1,2,3]].mean(axis=1)\n",
    "prev"
   ]
  },
  {
   "cell_type": "code",
   "execution_count": 236,
   "metadata": {},
   "outputs": [
    {
     "data": {
      "text/plain": [
       "일자\n",
       "20190912     9.451550\n",
       "20190913    24.447803\n",
       "20190914    15.698689\n",
       "20190915    -8.675486\n",
       "dtype: float64"
      ]
     },
     "execution_count": 236,
     "metadata": {},
     "output_type": "execute_result"
    }
   ],
   "source": [
    "# 추석의 교통량 증가율 \n",
    "\n",
    "rate=(chuseok19.iloc[:,0]-prev)/prev *100\n",
    "rate"
   ]
  },
  {
   "cell_type": "markdown",
   "metadata": {},
   "source": [
    "--> 추석 당일날 24% 증가."
   ]
  },
  {
   "cell_type": "code",
   "execution_count": null,
   "metadata": {},
   "outputs": [],
   "source": [
    "## 설연휴도 해봤는데 설연휴는 의미가 없었음."
   ]
  },
  {
   "cell_type": "code",
   "execution_count": null,
   "metadata": {},
   "outputs": [],
   "source": []
  },
  {
   "cell_type": "code",
   "execution_count": null,
   "metadata": {},
   "outputs": [],
   "source": []
  },
  {
   "cell_type": "markdown",
   "metadata": {},
   "source": [
    "- 2018년 비교"
   ]
  },
  {
   "cell_type": "code",
   "execution_count": 219,
   "metadata": {},
   "outputs": [
    {
     "data": {
      "text/html": [
       "<div>\n",
       "<style scoped>\n",
       "    .dataframe tbody tr th:only-of-type {\n",
       "        vertical-align: middle;\n",
       "    }\n",
       "\n",
       "    .dataframe tbody tr th {\n",
       "        vertical-align: top;\n",
       "    }\n",
       "\n",
       "    .dataframe thead th {\n",
       "        text-align: right;\n",
       "    }\n",
       "</style>\n",
       "<table border=\"1\" class=\"dataframe\">\n",
       "  <thead>\n",
       "    <tr style=\"text-align: right;\">\n",
       "      <th></th>\n",
       "      <th>일자</th>\n",
       "      <th>영업소명</th>\n",
       "      <th>방향구분</th>\n",
       "      <th>영업소코드</th>\n",
       "      <th>기점종점방향구분코드</th>\n",
       "      <th>당일교통량</th>\n",
       "      <th>전주교통량</th>\n",
       "      <th>전전주교통량</th>\n",
       "      <th>전월평균교통량</th>\n",
       "      <th>전년동주교통량</th>\n",
       "      <th>전년평균교통량</th>\n",
       "    </tr>\n",
       "  </thead>\n",
       "  <tbody>\n",
       "    <tr>\n",
       "      <th>0</th>\n",
       "      <td>20180104.0</td>\n",
       "      <td>구리남양주</td>\n",
       "      <td>서울방향</td>\n",
       "      <td>6.0</td>\n",
       "      <td>2.0</td>\n",
       "      <td>98222.0</td>\n",
       "      <td>101302.0</td>\n",
       "      <td>92920.0</td>\n",
       "      <td>94859.0</td>\n",
       "      <td>102826.0</td>\n",
       "      <td>103854.0</td>\n",
       "    </tr>\n",
       "    <tr>\n",
       "      <th>1</th>\n",
       "      <td>20180110.0</td>\n",
       "      <td>구리남양주</td>\n",
       "      <td>서울방향</td>\n",
       "      <td>6.0</td>\n",
       "      <td>2.0</td>\n",
       "      <td>93010.0</td>\n",
       "      <td>97818.0</td>\n",
       "      <td>99758.0</td>\n",
       "      <td>94859.0</td>\n",
       "      <td>102730.0</td>\n",
       "      <td>103854.0</td>\n",
       "    </tr>\n",
       "    <tr>\n",
       "      <th>2</th>\n",
       "      <td>20180101.0</td>\n",
       "      <td>구리남양주</td>\n",
       "      <td>서울방향</td>\n",
       "      <td>6.0</td>\n",
       "      <td>2.0</td>\n",
       "      <td>78055.0</td>\n",
       "      <td>75696.0</td>\n",
       "      <td>80035.0</td>\n",
       "      <td>94859.0</td>\n",
       "      <td>97479.0</td>\n",
       "      <td>103854.0</td>\n",
       "    </tr>\n",
       "    <tr>\n",
       "      <th>3</th>\n",
       "      <td>20180101.0</td>\n",
       "      <td>구리남양주</td>\n",
       "      <td>지방방향</td>\n",
       "      <td>6.0</td>\n",
       "      <td>3.0</td>\n",
       "      <td>77987.0</td>\n",
       "      <td>79411.0</td>\n",
       "      <td>75121.0</td>\n",
       "      <td>92163.0</td>\n",
       "      <td>98167.0</td>\n",
       "      <td>99595.0</td>\n",
       "    </tr>\n",
       "    <tr>\n",
       "      <th>4</th>\n",
       "      <td>20180111.0</td>\n",
       "      <td>구리남양주</td>\n",
       "      <td>서울방향</td>\n",
       "      <td>6.0</td>\n",
       "      <td>2.0</td>\n",
       "      <td>94480.0</td>\n",
       "      <td>98222.0</td>\n",
       "      <td>101302.0</td>\n",
       "      <td>94859.0</td>\n",
       "      <td>102869.0</td>\n",
       "      <td>103854.0</td>\n",
       "    </tr>\n",
       "  </tbody>\n",
       "</table>\n",
       "</div>"
      ],
      "text/plain": [
       "           일자   영업소명  방향구분  영업소코드   기점종점방향구분코드    당일교통량     전주교통량    전전주교통량  \\\n",
       "0  20180104.0  구리남양주  서울방향    6.0          2.0  98222.0  101302.0   92920.0   \n",
       "1  20180110.0  구리남양주  서울방향    6.0          2.0  93010.0   97818.0   99758.0   \n",
       "2  20180101.0  구리남양주  서울방향    6.0          2.0  78055.0   75696.0   80035.0   \n",
       "3  20180101.0  구리남양주  지방방향    6.0          3.0  77987.0   79411.0   75121.0   \n",
       "4  20180111.0  구리남양주  서울방향    6.0          2.0  94480.0   98222.0  101302.0   \n",
       "\n",
       "    전월평균교통량   전년동주교통량   전년평균교통량  \n",
       "0   94859.0  102826.0  103854.0  \n",
       "1   94859.0  102730.0  103854.0  \n",
       "2   94859.0   97479.0  103854.0  \n",
       "3   92163.0   98167.0   99595.0  \n",
       "4   94859.0  102869.0  103854.0  "
      ]
     },
     "execution_count": 219,
     "metadata": {},
     "output_type": "execute_result"
    }
   ],
   "source": [
    "data18=pd.read_csv(\"TCS_주간+교통분석(교통량)_1일_1년_2018/TCS_D3_04_04_585131.csv\", encoding='CP949')\n",
    "data18.head()"
   ]
  },
  {
   "cell_type": "code",
   "execution_count": 238,
   "metadata": {},
   "outputs": [
    {
     "data": {
      "text/plain": [
       "일자             728\n",
       " 영업소명          728\n",
       " 방향구분          728\n",
       "영업소코드          728\n",
       " 기점종점방향구분코드    728\n",
       " 당일교통량         728\n",
       " 전주교통량         728\n",
       " 전전주교통량        728\n",
       " 전월평균교통량       728\n",
       " 전년동주교통량       728\n",
       " 전년평균교통량       728\n",
       "dtype: int64"
      ]
     },
     "execution_count": 238,
     "metadata": {},
     "output_type": "execute_result"
    }
   ],
   "source": [
    "data18.isnull().sum()"
   ]
  },
  {
   "cell_type": "code",
   "execution_count": 240,
   "metadata": {},
   "outputs": [
    {
     "data": {
      "text/plain": [
       "일자             0\n",
       " 영업소명          0\n",
       " 방향구분          0\n",
       "영업소코드          0\n",
       " 기점종점방향구분코드    0\n",
       " 당일교통량         0\n",
       " 전주교통량         0\n",
       " 전전주교통량        0\n",
       " 전월평균교통량       0\n",
       " 전년동주교통량       0\n",
       " 전년평균교통량       0\n",
       "dtype: int64"
      ]
     },
     "execution_count": 240,
     "metadata": {},
     "output_type": "execute_result"
    }
   ],
   "source": [
    "data18=data18.dropna(axis=0)\n",
    "data18.isnull().sum()"
   ]
  },
  {
   "cell_type": "code",
   "execution_count": 243,
   "metadata": {},
   "outputs": [
    {
     "data": {
      "text/html": [
       "<div>\n",
       "<style scoped>\n",
       "    .dataframe tbody tr th:only-of-type {\n",
       "        vertical-align: middle;\n",
       "    }\n",
       "\n",
       "    .dataframe tbody tr th {\n",
       "        vertical-align: top;\n",
       "    }\n",
       "\n",
       "    .dataframe thead th {\n",
       "        text-align: right;\n",
       "    }\n",
       "</style>\n",
       "<table border=\"1\" class=\"dataframe\">\n",
       "  <thead>\n",
       "    <tr style=\"text-align: right;\">\n",
       "      <th></th>\n",
       "      <th>일자</th>\n",
       "      <th>영업소명</th>\n",
       "      <th>방향구분</th>\n",
       "      <th>영업소코드</th>\n",
       "      <th>기점종점방향구분코드</th>\n",
       "      <th>당일교통량</th>\n",
       "      <th>전주교통량</th>\n",
       "      <th>전전주교통량</th>\n",
       "      <th>전월평균교통량</th>\n",
       "      <th>전년동주교통량</th>\n",
       "      <th>전년평균교통량</th>\n",
       "    </tr>\n",
       "  </thead>\n",
       "  <tbody>\n",
       "    <tr>\n",
       "      <th>0</th>\n",
       "      <td>20180104</td>\n",
       "      <td>구리남양주</td>\n",
       "      <td>서울방향</td>\n",
       "      <td>6</td>\n",
       "      <td>2</td>\n",
       "      <td>98222</td>\n",
       "      <td>101302</td>\n",
       "      <td>92920</td>\n",
       "      <td>94859</td>\n",
       "      <td>102826</td>\n",
       "      <td>103854</td>\n",
       "    </tr>\n",
       "    <tr>\n",
       "      <th>1</th>\n",
       "      <td>20180110</td>\n",
       "      <td>구리남양주</td>\n",
       "      <td>서울방향</td>\n",
       "      <td>6</td>\n",
       "      <td>2</td>\n",
       "      <td>93010</td>\n",
       "      <td>97818</td>\n",
       "      <td>99758</td>\n",
       "      <td>94859</td>\n",
       "      <td>102730</td>\n",
       "      <td>103854</td>\n",
       "    </tr>\n",
       "    <tr>\n",
       "      <th>2</th>\n",
       "      <td>20180101</td>\n",
       "      <td>구리남양주</td>\n",
       "      <td>서울방향</td>\n",
       "      <td>6</td>\n",
       "      <td>2</td>\n",
       "      <td>78055</td>\n",
       "      <td>75696</td>\n",
       "      <td>80035</td>\n",
       "      <td>94859</td>\n",
       "      <td>97479</td>\n",
       "      <td>103854</td>\n",
       "    </tr>\n",
       "  </tbody>\n",
       "</table>\n",
       "</div>"
      ],
      "text/plain": [
       "         일자   영업소명  방향구분  영업소코드  기점종점방향구분코드  당일교통량   전주교통량  전전주교통량  전월평균교통량  \\\n",
       "0  20180104  구리남양주  서울방향      6           2  98222  101302   92920    94859   \n",
       "1  20180110  구리남양주  서울방향      6           2  93010   97818   99758    94859   \n",
       "2  20180101  구리남양주  서울방향      6           2  78055   75696   80035    94859   \n",
       "\n",
       "   전년동주교통량  전년평균교통량  \n",
       "0   102826   103854  \n",
       "1   102730   103854  \n",
       "2    97479   103854  "
      ]
     },
     "execution_count": 243,
     "metadata": {},
     "output_type": "execute_result"
    }
   ],
   "source": [
    "data18.columns=data18.columns.str.strip()\n",
    "data18=data18.astype({'일자':int,\n",
    "                  '영업소코드':int, \n",
    "                  '기점종점방향구분코드':int, \n",
    "                  '당일교통량':int,\n",
    "                  '전주교통량':int,\n",
    "                  '전전주교통량':int, \n",
    "                  '전월평균교통량':int, \n",
    "                  '전년동주교통량':int,\n",
    "                  '전년평균교통량':int})\n",
    "data18.head(3)"
   ]
  },
  {
   "cell_type": "code",
   "execution_count": 244,
   "metadata": {},
   "outputs": [
    {
     "data": {
      "text/html": [
       "<div>\n",
       "<style scoped>\n",
       "    .dataframe tbody tr th:only-of-type {\n",
       "        vertical-align: middle;\n",
       "    }\n",
       "\n",
       "    .dataframe tbody tr th {\n",
       "        vertical-align: top;\n",
       "    }\n",
       "\n",
       "    .dataframe thead th {\n",
       "        text-align: right;\n",
       "    }\n",
       "</style>\n",
       "<table border=\"1\" class=\"dataframe\">\n",
       "  <thead>\n",
       "    <tr style=\"text-align: right;\">\n",
       "      <th></th>\n",
       "      <th>당일교통량</th>\n",
       "      <th>전주교통량</th>\n",
       "      <th>전전주교통량</th>\n",
       "      <th>전월평균교통량</th>\n",
       "    </tr>\n",
       "    <tr>\n",
       "      <th>일자</th>\n",
       "      <th></th>\n",
       "      <th></th>\n",
       "      <th></th>\n",
       "      <th></th>\n",
       "    </tr>\n",
       "  </thead>\n",
       "  <tbody>\n",
       "    <tr>\n",
       "      <th>20180101</th>\n",
       "      <td>668066</td>\n",
       "      <td>628662</td>\n",
       "      <td>629244</td>\n",
       "      <td>726250</td>\n",
       "    </tr>\n",
       "    <tr>\n",
       "      <th>20180102</th>\n",
       "      <td>715616</td>\n",
       "      <td>747577</td>\n",
       "      <td>715435</td>\n",
       "      <td>726250</td>\n",
       "    </tr>\n",
       "    <tr>\n",
       "      <th>20180103</th>\n",
       "      <td>720986</td>\n",
       "      <td>734243</td>\n",
       "      <td>702526</td>\n",
       "      <td>726250</td>\n",
       "    </tr>\n",
       "  </tbody>\n",
       "</table>\n",
       "</div>"
      ],
      "text/plain": [
       "           당일교통량   전주교통량  전전주교통량  전월평균교통량\n",
       "일자                                       \n",
       "20180101  668066  628662  629244   726250\n",
       "20180102  715616  747577  715435   726250\n",
       "20180103  720986  734243  702526   726250"
      ]
     },
     "execution_count": 244,
     "metadata": {},
     "output_type": "execute_result"
    }
   ],
   "source": [
    "total=data18.drop([ '방향구분', '영업소코드', '기점종점방향구분코드', '전년동주교통량', '전년평균교통량'], axis=1)\n",
    "\n",
    "# 일자로 groupby. (영업소 구분x)\n",
    "total=total.groupby(['일자']).sum()\n",
    "total.head(3)"
   ]
  },
  {
   "cell_type": "markdown",
   "metadata": {},
   "source": [
    "- 2018년 추석 연휴 23~26. 추석당일 24일, 대체휴일 26일"
   ]
  },
  {
   "cell_type": "code",
   "execution_count": 253,
   "metadata": {},
   "outputs": [
    {
     "data": {
      "text/html": [
       "<div>\n",
       "<style scoped>\n",
       "    .dataframe tbody tr th:only-of-type {\n",
       "        vertical-align: middle;\n",
       "    }\n",
       "\n",
       "    .dataframe tbody tr th {\n",
       "        vertical-align: top;\n",
       "    }\n",
       "\n",
       "    .dataframe thead th {\n",
       "        text-align: right;\n",
       "    }\n",
       "</style>\n",
       "<table border=\"1\" class=\"dataframe\">\n",
       "  <thead>\n",
       "    <tr style=\"text-align: right;\">\n",
       "      <th></th>\n",
       "      <th>당일교통량</th>\n",
       "      <th>전주교통량</th>\n",
       "      <th>전전주교통량</th>\n",
       "      <th>전월평균교통량</th>\n",
       "    </tr>\n",
       "    <tr>\n",
       "      <th>일자</th>\n",
       "      <th></th>\n",
       "      <th></th>\n",
       "      <th></th>\n",
       "      <th></th>\n",
       "    </tr>\n",
       "  </thead>\n",
       "  <tbody>\n",
       "    <tr>\n",
       "      <th>20180923</th>\n",
       "      <td>5134913</td>\n",
       "      <td>4976126</td>\n",
       "      <td>5292259</td>\n",
       "      <td>5188629</td>\n",
       "    </tr>\n",
       "    <tr>\n",
       "      <th>20180924</th>\n",
       "      <td>6902428</td>\n",
       "      <td>1559715</td>\n",
       "      <td>5354711</td>\n",
       "      <td>5188629</td>\n",
       "    </tr>\n",
       "    <tr>\n",
       "      <th>20180925</th>\n",
       "      <td>5946789</td>\n",
       "      <td>5472445</td>\n",
       "      <td>5317505</td>\n",
       "      <td>5188629</td>\n",
       "    </tr>\n",
       "    <tr>\n",
       "      <th>20180926</th>\n",
       "      <td>746053</td>\n",
       "      <td>811632</td>\n",
       "      <td>798468</td>\n",
       "      <td>780550</td>\n",
       "    </tr>\n",
       "  </tbody>\n",
       "</table>\n",
       "</div>"
      ],
      "text/plain": [
       "            당일교통량    전주교통량   전전주교통량  전월평균교통량\n",
       "일자                                          \n",
       "20180923  5134913  4976126  5292259  5188629\n",
       "20180924  6902428  1559715  5354711  5188629\n",
       "20180925  5946789  5472445  5317505  5188629\n",
       "20180926   746053   811632   798468   780550"
      ]
     },
     "execution_count": 253,
     "metadata": {},
     "output_type": "execute_result"
    }
   ],
   "source": [
    "date=range(20180923,20180927)\n",
    "\n",
    "chuseok18 = total.loc[date]\n",
    "chuseok18"
   ]
  },
  {
   "cell_type": "code",
   "execution_count": 254,
   "metadata": {},
   "outputs": [
    {
     "data": {
      "text/plain": [
       "일자\n",
       "20180923    5.152338e+06\n",
       "20180924    4.034352e+06\n",
       "20180925    5.326193e+06\n",
       "20180926    7.968833e+05\n",
       "dtype: float64"
      ]
     },
     "execution_count": 254,
     "metadata": {},
     "output_type": "execute_result"
    }
   ],
   "source": [
    "prev18=chuseok18.iloc[:,[1,2,3]].mean(axis=1)\n",
    "prev18"
   ]
  },
  {
   "cell_type": "code",
   "execution_count": 255,
   "metadata": {},
   "outputs": [
    {
     "data": {
      "text/plain": [
       "일자\n",
       "20180923    -0.338196\n",
       "20180924    71.091381\n",
       "20180925    11.651775\n",
       "20180926    -6.378642\n",
       "dtype: float64"
      ]
     },
     "execution_count": 255,
     "metadata": {},
     "output_type": "execute_result"
    }
   ],
   "source": [
    "# 추석의 교통량 증가율 \n",
    "\n",
    "rate=(chuseok18.iloc[:,0]-prev)/prev *100\n",
    "rate"
   ]
  },
  {
   "cell_type": "markdown",
   "metadata": {},
   "source": [
    "--> 추석당일날 71% 증가"
   ]
  },
  {
   "cell_type": "code",
   "execution_count": null,
   "metadata": {},
   "outputs": [],
   "source": []
  }
 ],
 "metadata": {
  "kernelspec": {
   "display_name": "Python 3",
   "language": "python",
   "name": "python3"
  },
  "language_info": {
   "codemirror_mode": {
    "name": "ipython",
    "version": 3
   },
   "file_extension": ".py",
   "mimetype": "text/x-python",
   "name": "python",
   "nbconvert_exporter": "python",
   "pygments_lexer": "ipython3",
   "version": "3.7.3"
  }
 },
 "nbformat": 4,
 "nbformat_minor": 2
}
